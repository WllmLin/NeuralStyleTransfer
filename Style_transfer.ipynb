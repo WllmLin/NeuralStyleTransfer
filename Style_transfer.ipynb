{
  "nbformat": 4,
  "nbformat_minor": 0,
  "metadata": {
    "colab": {
      "name": "Style transfer.ipynb",
      "provenance": [],
      "authorship_tag": "ABX9TyOMdi4Qx1gbTDD/DnA9X4+v",
      "include_colab_link": true
    },
    "kernelspec": {
      "name": "python3",
      "display_name": "Python 3"
    },
    "language_info": {
      "name": "python"
    },
    "accelerator": "GPU"
  },
  "cells": [
    {
      "cell_type": "markdown",
      "metadata": {
        "id": "view-in-github",
        "colab_type": "text"
      },
      "source": [
        "<a href=\"https://colab.research.google.com/github/WllmLin/NeuralStyleTransfer/blob/main/Style_transfer.ipynb\" target=\"_parent\"><img src=\"https://colab.research.google.com/assets/colab-badge.svg\" alt=\"Open In Colab\"/></a>"
      ]
    },
    {
      "cell_type": "code",
      "metadata": {
        "colab": {
          "base_uri": "https://localhost:8080/"
        },
        "id": "lUmpykqrPrC7",
        "outputId": "e6571ef6-e252-4215-b1e5-d5bf1e0ee85b"
      },
      "source": [
        "from PIL import Image\n",
        "import torch\n",
        "import torch.nn as nn\n",
        "import torch.optim as optim\n",
        "import torchvision.transforms as transforms\n",
        "import torchvision.models as models\n",
        "from torchvision.utils import save_image\n",
        "\n",
        "class VGG(nn.Module):\n",
        "  def __init__(self):\n",
        "    super(VGG, self).__init__()\n",
        "    self.chosen_features = ['0','5','10','19','28']\n",
        "    self.model = models.vgg19(pretrained=True).features[:29]\n",
        "  def forward(self, x):\n",
        "    features = []\n",
        "    for layer_num, layer in enumerate(self.model):\n",
        "      x = layer(x)\n",
        "      if str(layer_num) in self.chosen_features:\n",
        "        features.append(x)\n",
        "    return features\n",
        "\n",
        "\n",
        "def load_image(image_name):\n",
        "  image = Image.open(image_name)\n",
        "  image = loader(image).unsqueeze(0)\n",
        "  return image.to(dev, torch.float)\n",
        "\n",
        "image_size = 900\n",
        "dev = torch.device('cuda')\n",
        "loader = transforms.Compose(\n",
        "    [\n",
        "      transforms.Resize((image_size, image_size)),\n",
        "      transforms.ToTensor(),\n",
        "    ]\n",
        ")\n",
        "\n",
        "\n",
        "original_img = load_image('content.jpg').requires_grad_(False)\n",
        "style_img = load_image('style.jpg').requires_grad_(False)\n",
        "gen = original_img.clone().requires_grad_(True)\n",
        "\n",
        "model = VGG().to(dev).eval()\n",
        "# Hyperparameters\n",
        "\n",
        "total_steps = 3000\n",
        "learning_rate = 0.01\n",
        "alpha = 0.9\n",
        "beta = 0.1\n",
        "optimizer = optim.Adam([gen], lr=learning_rate)\n",
        "\n",
        "for step in range(total_steps):\n",
        "  generated_features = model(gen)\n",
        "  original_img_features = model(original_img)\n",
        "  style_features = model(style_img)\n",
        "  style_loss = content_loss = 0\n",
        "\n",
        "  for gen_feature, ori_feature, style_feature in zip(\n",
        "      generated_features, original_img_features, style_features\n",
        "  ):\n",
        "    batch_size, channel, height, width = gen_feature.shape\n",
        "    content_loss += torch.mean((gen_feature - ori_feature) ** 2)\n",
        "\n",
        "    G = gen_feature.view(channel, height*width).mm(\n",
        "        gen_feature.view(channel, height*width).t()\n",
        "    )\n",
        "\n",
        "    A = style_feature.view(channel, height*width).mm(\n",
        "        style_feature.view(channel, height*width).t()\n",
        "    )\n",
        "    style_loss += torch.mean( (G - A) ** 2 )\n",
        "  total_loss = alpha * content_loss + beta * style_loss\n",
        "  optimizer.zero_grad()\n",
        "  total_loss.backward()\n",
        "  optimizer.step()\n",
        "\n",
        "  if step%200 == 0:\n",
        "    print(total_loss)\n",
        "    save_image(gen, f\"process{int(step/200)}.jpg\" )"
      ],
      "execution_count": null,
      "outputs": [
        {
          "output_type": "stream",
          "name": "stdout",
          "text": [
            "tensor(63268872., device='cuda:0', grad_fn=<AddBackward0>)\n",
            "tensor(594793.5625, device='cuda:0', grad_fn=<AddBackward0>)\n"
          ]
        }
      ]
    }
  ]
}